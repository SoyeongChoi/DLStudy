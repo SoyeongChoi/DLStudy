{
 "cells": [
  {
   "cell_type": "code",
   "execution_count": 7,
   "metadata": {},
   "outputs": [
    {
     "name": "stdout",
     "output_type": "stream",
     "text": [
      "[[ 56.    0.    4.4  68. ]\n",
      " [  1.2 104.   52.    8. ]\n",
      " [  1.8 135.   99.    0.9]]\n"
     ]
    }
   ],
   "source": [
    "import numpy as np\n",
    "#braodcasting 간단\n",
    "A = np.array([[56.0,0.0,4.4,68.0],\n",
    "             [1.2,104.0,52.0,8.0],\n",
    "             [1.8,135.0,99.0,0.9]\n",
    "             ])\n",
    "print(A)"
   ]
  },
  {
   "cell_type": "code",
   "execution_count": 8,
   "metadata": {},
   "outputs": [
    {
     "name": "stdout",
     "output_type": "stream",
     "text": [
      "[ 59.  239.  155.4  76.9]\n"
     ]
    }
   ],
   "source": [
    "cal = A.sum(axis=0)\n",
    "print(cal)"
   ]
  },
  {
   "cell_type": "code",
   "execution_count": 10,
   "metadata": {},
   "outputs": [
    {
     "name": "stdout",
     "output_type": "stream",
     "text": [
      "[[94.91525424  0.          2.83140283 88.42652796]\n",
      " [ 2.03389831 43.51464435 33.46203346 10.40312094]\n",
      " [ 3.05084746 56.48535565 63.70656371  1.17035111]]\n"
     ]
    }
   ],
   "source": [
    "percentage = 100*A/cal.reshape(1,4) #사실 cal는 이미 A.sum을 통해 1x4행렬이 되었으니\n",
    "                                    #굳이 reshape해줄 필요는 없음\n",
    "                                    #reshape은 상수시간이 걸려 호출이 굉장히 cheap\n",
    "print(percentage)"
   ]
  },
  {
   "cell_type": "code",
   "execution_count": 11,
   "metadata": {},
   "outputs": [
    {
     "name": "stdout",
     "output_type": "stream",
     "text": [
      "[ 0.41700274  0.29008266  1.03029146 -0.78514092  0.13342219]\n"
     ]
    }
   ],
   "source": [
    "#numpy 사용법\n",
    "a = np.random.randn(5)\n",
    "print(a)"
   ]
  },
  {
   "cell_type": "code",
   "execution_count": 13,
   "metadata": {},
   "outputs": [
    {
     "name": "stdout",
     "output_type": "stream",
     "text": [
      "(5,)\n"
     ]
    }
   ],
   "source": [
    "print(a.shape) #rank가 1인 행렬으로 행벡터도 열벡터도 아님"
   ]
  },
  {
   "cell_type": "code",
   "execution_count": 14,
   "metadata": {},
   "outputs": [
    {
     "name": "stdout",
     "output_type": "stream",
     "text": [
      "[ 0.41700274  0.29008266  1.03029146 -0.78514092  0.13342219]\n"
     ]
    }
   ],
   "source": [
    "print(a.T)#그래서 직관적이지 않은 결과를 도출하게 됨"
   ]
  },
  {
   "cell_type": "code",
   "execution_count": 15,
   "metadata": {},
   "outputs": [
    {
     "name": "stdout",
     "output_type": "stream",
     "text": [
      "1.9537874614780706\n"
     ]
    }
   ],
   "source": [
    "print(np.dot(a,a.T)) #행렬이 나와야할 것 같지만 하나의 수만 나옴\n",
    "#그래서 neuralNet을 구할 땐 (n,)인 랭크가 1인 배열을 아예 사용 X"
   ]
  },
  {
   "cell_type": "code",
   "execution_count": 16,
   "metadata": {},
   "outputs": [
    {
     "name": "stdout",
     "output_type": "stream",
     "text": [
      "[[ 0.74930096]\n",
      " [ 0.98942612]\n",
      " [-0.50672975]\n",
      " [-2.13342764]\n",
      " [-1.34041978]]\n"
     ]
    }
   ],
   "source": [
    "a = np.random.randn(5,1)#5x1 열벡터가 됨\n",
    "                        #열벡터나 행벡터를 사용하자\n",
    "                        #assert함수를 통해 행렬과 배열의 차원을 체크\n",
    "                        #행렬과 벡터를 필요한 차원으로 만들기 위해 reshape함수를 자주 사용\n",
    "print(a)"
   ]
  },
  {
   "cell_type": "code",
   "execution_count": 17,
   "metadata": {},
   "outputs": [
    {
     "name": "stdout",
     "output_type": "stream",
     "text": [
      "[[ 0.74930096  0.98942612 -0.50672975 -2.13342764 -1.34041978]]\n"
     ]
    }
   ],
   "source": [
    "print(a.T)"
   ]
  },
  {
   "cell_type": "code",
   "execution_count": 18,
   "metadata": {},
   "outputs": [
    {
     "name": "stdout",
     "output_type": "stream",
     "text": [
      "[[ 0.56145192  0.74137794 -0.37969308 -1.59857937 -1.00437782]\n",
      " [ 0.74137794  0.97896404 -0.50137165 -2.11086903 -1.32624634]\n",
      " [-0.37969308 -0.50137165  0.25677504  1.08107125  0.67923058]\n",
      " [-1.59857937 -2.11086903  1.08107125  4.55151349  2.85968862]\n",
      " [-1.00437782 -1.32624634  0.67923058  2.85968862  1.7967252 ]]\n"
     ]
    }
   ],
   "source": [
    "print(np.dot(a,a.T))"
   ]
  },
  {
   "cell_type": "code",
   "execution_count": null,
   "metadata": {},
   "outputs": [],
   "source": []
  }
 ],
 "metadata": {
  "kernelspec": {
   "display_name": "Python 3",
   "language": "python",
   "name": "python3"
  },
  "language_info": {
   "codemirror_mode": {
    "name": "ipython",
    "version": 3
   },
   "file_extension": ".py",
   "mimetype": "text/x-python",
   "name": "python",
   "nbconvert_exporter": "python",
   "pygments_lexer": "ipython3",
   "version": "3.6.5"
  }
 },
 "nbformat": 4,
 "nbformat_minor": 2
}
